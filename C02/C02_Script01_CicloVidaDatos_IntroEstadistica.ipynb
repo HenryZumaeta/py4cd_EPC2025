{
  "nbformat": 4,
  "nbformat_minor": 0,
  "metadata": {
    "colab": {
      "provenance": [],
      "authorship_tag": "ABX9TyNjuWPzBKX4av2woeWPcowj",
      "include_colab_link": true
    },
    "kernelspec": {
      "name": "python3",
      "display_name": "Python 3"
    },
    "language_info": {
      "name": "python"
    }
  },
  "cells": [
    {
      "cell_type": "markdown",
      "metadata": {
        "id": "view-in-github",
        "colab_type": "text"
      },
      "source": [
        "<a href=\"https://colab.research.google.com/github/HenryZumaeta/py4cd_EPC2025/blob/main/C02/C02_Script01_CicloVidaDatos_IntroEstadistica.ipynb\" target=\"_parent\"><img src=\"https://colab.research.google.com/assets/colab-badge.svg\" alt=\"Open In Colab\"/></a>"
      ]
    },
    {
      "cell_type": "markdown",
      "source": [
        "# Ciclo de vida de los datos\n",
        "\n",
        "Esquema circular:\n",
        "\n",
        "- CREAR\n",
        "- PROCESAR\n",
        "- ANALIZAR\n",
        "- CONSERVAR\n",
        "- DAR ACCESO\n",
        "- REUTILIZAR\n",
        "- [VOLVER A CREAR]\n",
        "\n",
        "Abordaremos estos tópicos desde la siguiente perspectiva\n",
        "\n",
        "- Definición técnica\n",
        "- Herramientas y tecnologías claves\n",
        "- Desafíos comunes\n",
        "- Ejemplos prácticos\n",
        "- Perspectivas multidisciplinarias"
      ],
      "metadata": {
        "id": "auKbm0tnILBi"
      }
    },
    {
      "cell_type": "markdown",
      "source": [
        "# DATA CREATION\n",
        "\n",
        "**Definición**: La fase inicial donde los datos son generados por fuentes diversas: sensores, transacciones, usuarios, dispositivos IoT, formularios, redes sociales, etc.\n",
        "\n",
        "- Procesos involuntarios\n",
        "  - Captura de datos (data capture)\n",
        "  - Generación automática (logs, métricas, eventos)\n",
        "  - Ingresos manual (formularios, encuestas)\n",
        "  - Interfaz con APIs externas\n",
        "\n",
        "- Tecnologías y herramientas\n",
        "  - IoT: Raspberry Pi, Arduino, Sensores Ambientales, JetsonNano\n",
        "  - Sistemas de gestión de bases de datos: PostgreSQL, MongoDB, Redis\n",
        "  - APIs Rest/GraphQL\n",
        "  - Event-driven Arch: Kafka, Pulsar\n",
        "  - Python: pandas, request, scrapy, flask (para captura de datos)\n",
        "\n",
        "- Ejemplito: Un hospital implementa un sistema de monitoreo de pacientes con sensores de frecuencia cardiaca y oxígeno. Cada 5 segundos, genera un registro JSON con un timestamp, ID, Valor del pulso, saturación de oxígeno, etc.\n",
        "\n",
        "```\n",
        "sensor_data = {\n",
        "    \"ID_paciente\" : \"P001\",\n",
        "    \"timestamp\" : datetime.now().isoformat(),\n",
        "    \"heart_rate\": 72,\n",
        "    \"sp_02\" : 98,\n",
        "    \"device_id\": \"SENSOR_46_piso2\"\n",
        "}\n",
        "```\n",
        "\n",
        "Este dato se envía a Kafka para ser consumido posteriormente\n",
        "\n",
        "- Perspectivas por perfil:\n",
        "  - Analista o Científico de Datos: Verificar si los datos cumplen con criterios mínimos de calidad.\n",
        "  - Ingeniero de software: Diseña microservicios para capturar datos en tiempo real (WebSockets, HTTP).\n",
        "  - Ingeniero de IA: Evaluar si los datos creados tiene el potencial para entrenar modelos predictivos.\n",
        "  - Especialista en Gobernanza: Asegura que se cumplan las normativas"
      ],
      "metadata": {
        "id": "AJqiTHogI2QA"
      }
    },
    {
      "cell_type": "markdown",
      "source": [
        "# DATA PROCESSING\n",
        "\n",
        "**Definición**: Transformación, limpieza, integración y normalización de datos crudos para hacerlos aptos para el análisis.\n",
        "\n",
        "- Actividades Clave\n",
        "  - Limpieza de datos: Remoción de duplicados, imputación de valores faltanes.\n",
        "  - Transformaciones: Normalización, escalado, codificación.\n",
        "  - Integración de multiples fuentes: ETL (Extract, Trnansform, Load).\n",
        "  - Streaming vs Batch Processing\n",
        "\n",
        "- Herramientas y lenguajes de programación\n",
        "  - Python: pandas, pyarrow, polars.\n",
        "  - Big Data: Apache Spark (PySpark), Flink.\n",
        "  - Plataformas: Airflow (Orquestación), Prefect, dagster\n",
        "  - Base de Datos: SnowFlake, BigQuery, Delta lake\n",
        "\n",
        "- Ejemplito: Se recibe un dataset de un área en particular (por ejemplo: el departamento de logística) cuya informaci´n está desordenada e incompleta (fechas mal formateadas). Se aplica un pipeline ETL.\n",
        "\n",
        "- Perspectivas por perfil\n",
        "  - Desarrollo Backend: Implementa servicios que ejecutan pipelines ETL en AWS Lambda o Google Cloud Functions\n",
        "  - Ingeniero DevOps: Orquesta el flujo de procesamiento: Kubernetes + Helm + Airflow.\n",
        "  - Analista o Científico de Datos: Define las reglas de negocio para las transformaciones.\n",
        "  - Ingeniero Machine Learning: Requiere datos preprocesados con distribuciones estables para evitar problemas con overfitting"
      ],
      "metadata": {
        "id": "1MASwfckMm_5"
      }
    },
    {
      "cell_type": "markdown",
      "source": [
        "# DATA ANALYSIS & MODELLING\n",
        "\n",
        "**Definición**: Aplicación de técnicas estadísticas, matemáticas y algorítmicas para extraer conocimiento, patrones y predicciones.\n",
        "\n",
        "- Tipo de Analisis\n",
        "  - Descriptivo: ¿Qué ocurrió?\n",
        "  - Diagnóstico: ¿Por qué?\n",
        "  - Predictivo: ¿Qué ocurrirá?\n",
        "  - Prescriptivo: ¿Qué debería hacerse?\n",
        "\n",
        "- Métodos y Herramientas\n",
        "  - Estadística descriptiva: Media, mediana, varianza, correlación, etc.\n",
        "  - Estadística diferencial: pruebas t, ANOVA, intervalo de confianza, etc.\n",
        "  - Machine learning: Regresiones lineales, árboles de decisión, bosques aleatorios, XGboost, etc.\n",
        "  - Deep Learning: Redes neuronales, transformers, LLM, RAG, Agentes, etc.\n",
        "  - NLP: Tokenización, embedding, BERT.\n",
        "  - Vision Artificial: Detección de objetos,  segmentación, etc.\n",
        "\n",
        "- Ejemplito: Construir un modelo de predicción de demanda de produtos usando algún modelo de ML.\n",
        "\n",
        "- Perspectivas por perfil\n",
        "  - Ingeniero de ML: Entrenar modelos con validación cruzada, hiperparámetros optimizados.\n",
        "  - Científico de datos: Aplica teoría bayesiana para interpretar resultados con insertidumbre.\n",
        "  - QA Tester: Valida que el modelo no tenga algún tipo de sesgo."
      ],
      "metadata": {
        "id": "Nug5cwveQqqC"
      }
    },
    {
      "cell_type": "markdown",
      "source": [
        "# DATA PRESERVATION & STORAGE\n",
        "\n",
        "**Definición**: Almacenamiento seguro, duradero y accesible de datos (Considerar aspectos técnicos, legales y éticos)\n",
        "\n",
        "- Estrategias\n",
        "  - Archivado: datos históricos sin uso activo\n",
        "  - Backup: Copias de seguridad periódicas\n",
        "  - Retención legal: Cumplimiento de leyes\n",
        "  - Seguridad: Cifrado, control de acceso y las auditorías\n",
        "\n",
        "- Soluciones técnicas\n",
        "  - Bases de datos relacionales\n",
        "  - NoSQL\n",
        "  - DataLakes: Amazon S3, Azure Data Lake\n",
        "  - Data Warehouses: Snowflake, BigQuery, RedShift\n",
        "  - Blockchain: Para garantizar integridad\n",
        "\n",
        "- Ejemplito: Una empresa financiera almacena transacciones en S3 con politicas de retención.\n",
        "\n",
        "- Perspectivas por perfil\n",
        "  - Ingeniero de DevOps: Configurar políticas de backup automáticas\n",
        "  - Arquitecto de Software: Diseña arquicturas de almacenamiento escalables\n",
        "  - Especialista en Seguridad: Implementa un Zero Trust Architecture para proteger datos sensibles.\n",
        "  - Asesor de Gobierno: Garantizar que el almacenamiento cumpla con leyes locales."
      ],
      "metadata": {
        "id": "e4Xh5CWpSlJZ"
      }
    },
    {
      "cell_type": "markdown",
      "source": [
        "# DATA ACCESS & GOVERNANCE\n",
        "\n",
        "**Definición**: Control de quién accede a qué datos, bajo qué condiciones y con qué fines.\n",
        "\n",
        "- Principios Clave\n",
        "  - Principio de Mínimo Privilegio\n",
        "  - Autenticación y Autorización (OAuth2, JWT)\n",
        "  - Registro de accesos\n",
        "  - Consentimiento informado\n",
        "  - Anonimización y Pseudonimización\n",
        "\n",
        "- Herramientas\n",
        "  - IAM (Identity and Access Management): AWS IAM, Okta, Keycloak\n",
        "  - Data Catalogo: Alation Amundsen\n",
        "  - Data Governance Plataforms: Collibra, Informatica\n",
        "  - API Gateways: Kong, Apigee\n",
        "\n",
        "- Ejemplito: Un investigador solicita acceso a datos  de salud anónimos para estudiar patrones de determinada enfermedad.\n",
        "\n",
        "- Perspeciva por perfil\n",
        "  - Arquitecto de IA: Diseña APIs seguras para modelos predictivos\n",
        "  - Ingeniero de seguridad: Monitoreo de intentos de accesos no autorizados\n",
        "  - Analista o Científico de Datos: Acceder a datos con roles específicos.\n",
        "  - Asesor de Gobierno de Datos: Promueve políticas públicas de apertura de datos."
      ],
      "metadata": {
        "id": "Dn2Oz6BgWjxR"
      }
    },
    {
      "cell_type": "markdown",
      "source": [
        "# DATA REUSE & REPURPOSING\n",
        "\n",
        "**Definición**: Uso de datos ya procesados o analizados para nuevos fines, proyectos o contextos.\n",
        "\n",
        "- Beneficios:\n",
        "  - Aprovechamiento de la inversión previa\n",
        "  - Reducción de redundancia\n",
        "  - Innovación\n",
        "  - Ciencia de datos reproducible\n",
        "\n",
        "- Formas de reutilización\n",
        "  - Reusabilidad técnica\n",
        "  - Reusabilidad científica\n",
        "  - Reusabilidad social\n",
        "\n",
        "- Plataformas\n",
        "   - Hugging Face\n",
        "   - Tensorflow Hub\n",
        "   - Github\n",
        "   - Portales de datos abiertos\n",
        "\n",
        "- Ejemplito: Un modelo de clasificación de imágenes (ResNet) entrenados en medicina se reutiliza para detectar daños en infraestructura urbana.\n",
        "\n",
        "- Perspectivas por perfil\n",
        "  - Ingeniero de ML: Aplica el transfer learning para acelerar el desarrollo.\n",
        "  - Desarrollador Frontend: Integra APIs de modelo reutilizable en aplicaciones web.\n",
        "  - Asesor de gobierno de datos: Fomentar el uso de datos para innovación social\n",
        "  \n"
      ],
      "metadata": {
        "id": "TOU2N33xbCs1"
      }
    },
    {
      "cell_type": "markdown",
      "source": [
        "# Aplicaciones"
      ],
      "metadata": {
        "id": "0LCS9gWHf8ZC"
      }
    },
    {
      "cell_type": "markdown",
      "source": [
        "- Encuestas de satisfacción del cliente\n",
        "- Control de calidad de productos\n",
        "  - Muestreo Aleatorio Simple: Empresa que fabrica botellas de vidrio.\n",
        "  - Muestreo Sistemático: Empresa textil que produce camisetas por turno.\n",
        "  - Muestreo Estratificado: Empresa de alimentos que produce tres sabores de yogurt.\n",
        "  - Muestreo conglomerado: Fábrica de lámparas que embala sus productos en cajas de 20 unidades.\n",
        "\n",
        "- Estimación de inventarios en grandes almacenes.\n",
        "- Análisis de sentimientos en redes sociales.\n",
        "- Auditorías financieras y contables.\n",
        "- Segmentación de clientes para marketing dirigido.\n",
        "- Pruebas de rendimiento de sitios web y aplicaciones para celulares.\n",
        "- Detección de fraude en transacciones financieras.\n",
        "- Investigación de mercados y proyección de tendencias.\n",
        "\n"
      ],
      "metadata": {
        "id": "1L5EQyTif-jh"
      }
    },
    {
      "cell_type": "code",
      "execution_count": null,
      "metadata": {
        "id": "qhgJ6BC2IDB-"
      },
      "outputs": [],
      "source": []
    }
  ]
}